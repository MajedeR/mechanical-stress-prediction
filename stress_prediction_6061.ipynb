{
  "nbformat": 4,
  "nbformat_minor": 0,
  "metadata": {
    "colab": {
      "provenance": [],
      "authorship_tag": "ABX9TyMm6wKOvJIkQp+lFGXmKuX0",
      "include_colab_link": true
    },
    "kernelspec": {
      "name": "python3",
      "display_name": "Python 3"
    },
    "language_info": {
      "name": "python"
    }
  },
  "cells": [
    {
      "cell_type": "markdown",
      "metadata": {
        "id": "view-in-github",
        "colab_type": "text"
      },
      "source": [
        "<a href=\"https://colab.research.google.com/github/MajedeR/mechanical-stress-prediction/blob/main/stress_prediction_6061.ipynb\" target=\"_parent\"><img src=\"https://colab.research.google.com/assets/colab-badge.svg\" alt=\"Open In Colab\"/></a>"
      ]
    },
    {
      "cell_type": "code",
      "source": [
        "#mount google drive to use dataset\n",
        "from google.colab import drive\n",
        "drive.mount('/content/drive')"
      ],
      "metadata": {
        "id": "SKytvoJT820B",
        "outputId": "cec3f8da-3ac2-465c-e645-cd2bcd85ff23",
        "colab": {
          "base_uri": "https://localhost:8080/"
        }
      },
      "execution_count": 2,
      "outputs": [
        {
          "output_type": "stream",
          "name": "stdout",
          "text": [
            "Mounted at /content/drive\n"
          ]
        }
      ]
    },
    {
      "cell_type": "code",
      "execution_count": 11,
      "metadata": {
        "id": "A5bA0ZpIhKtt"
      },
      "outputs": [],
      "source": [
        "#import libraries\n",
        "import pandas as pd\n",
        "import numpy as np\n",
        "import zipfile\n",
        "import os"
      ]
    },
    {
      "cell_type": "code",
      "source": [
        "###Uzip data (Just run once)\n",
        "# zip_path = '/content/drive/MyDrive/stress_prediction_6061/unzipped_folder/Stress-strain data for aluminum 6061-T651 from 9 lots at 6 temperatures under uniaxial and plain strain tension/stress-strain-curves-of-aluminum-6061-t651-from-9-lots-at-6-temperatures-under-uniaxial-and-plain-strain-tension.zip'\n",
        "\n",
        "# #extract dir\n",
        "# extract_to = '/content/drive/MyDrive/stress_prediction_6061/Newunzipped_folder'\n",
        "# os.makedirs(extract_to, exist_ok=True)\n",
        "\n",
        "\n",
        "# with zipfile.ZipFile(zip_path, 'r') as zip_ref:\n",
        "#     zip_ref.extractall(extract_to)\n"
      ],
      "metadata": {
        "id": "Sz6cTRkLhPf0"
      },
      "execution_count": null,
      "outputs": []
    },
    {
      "cell_type": "code",
      "source": [
        "#Data folder direction\n",
        "Data_dir = '/content/drive/MyDrive/stress_prediction_6061/Newunzipped_folder'"
      ],
      "metadata": {
        "id": "1NWqZwO2-WFZ"
      },
      "execution_count": 4,
      "outputs": []
    },
    {
      "cell_type": "code",
      "source": [
        "#make list for directions\n",
        "file_names = os.listdir(Data_dir)\n",
        "csv_paths = [os.path.join(Data_dir,i) for i in file_names]\n",
        "\n",
        "print(f\"Example Name:  {file_names[0]}\")\n",
        "print(f\"Example Path:  {csv_paths[0]}\")\n",
        "print(f\"Len Data: {len(csv_paths)}\")"
      ],
      "metadata": {
        "id": "qU2bz_j1Lnhp",
        "outputId": "d750a722-0417-4c16-9554-d95d02a37651",
        "colab": {
          "base_uri": "https://localhost:8080/"
        }
      },
      "execution_count": 22,
      "outputs": [
        {
          "output_type": "stream",
          "name": "stdout",
          "text": [
            "Example Name:  P_020_G_2_022_195_24.csv\n",
            "Example Path:  /content/drive/MyDrive/stress_prediction_6061/Newunzipped_folder/P_020_G_2_022_195_24.csv\n",
            "Len Data: 154\n"
          ]
        }
      ]
    },
    {
      "cell_type": "code",
      "source": [
        "#Read csv files\n",
        "data = [pd.read_csv(i) for i in csv_paths]"
      ],
      "metadata": {
        "id": "HTTFWeVbPqTr"
      },
      "execution_count": 19,
      "outputs": []
    },
    {
      "cell_type": "code",
      "source": [
        "#Show the example data\n",
        "example = data[0]\n",
        "print(example)"
      ],
      "metadata": {
        "id": "9ERXEPACMXSs",
        "outputId": "b0c1b18d-8965-4a38-f9f3-3fb87d9c3853",
        "colab": {
          "base_uri": "https://localhost:8080/"
        }
      },
      "execution_count": 20,
      "outputs": [
        {
          "output_type": "stream",
          "name": "stdout",
          "text": [
            "        Strain  Stress_MPa\n",
            "0    -0.000096    0.583252\n",
            "1    -0.000099    0.591747\n",
            "2    -0.000103    0.599371\n",
            "3    -0.000105    0.606555\n",
            "4    -0.000108    0.613481\n",
            "...        ...         ...\n",
            "1000  0.265238  230.688502\n",
            "1001  0.265863  230.227235\n",
            "1002  0.266486  229.756038\n",
            "1003  0.267110  229.273017\n",
            "1004  0.267111    0.000000\n",
            "\n",
            "[1005 rows x 2 columns]\n"
          ]
        }
      ]
    },
    {
      "cell_type": "code",
      "source": [
        "for i in range(0, len(csv_paths)):\n",
        "\n",
        "  #Get features from file names\n",
        "  datadf = data[i]\n",
        "  dataname = file_names[i]\n",
        "  datadata = dataname.split(\"_\")\n",
        "  datatype = datadata[0]\n",
        "  dataTemp = datadata[1]\n",
        "  dataLot = datadata[2]\n",
        "  dataNum = datadata[3]\n",
        "\n",
        "  #Get mechanical properties from df\n",
        "  datastrains = datadf.iloc[ : , 0]\n",
        "  datastress = datadf.iloc[ : , 1]\n",
        "\n",
        "  ##Calculate ultimate stress\n",
        "  ultimate_stress = datastress.max()\n",
        "\n",
        "  ##Calculate yield stress\n",
        "  stress_diff = np.diff(datastress)\n",
        "  yield_index = np.argmax(stress_diff < 0) if any(stress_diff < 0) else 0\n",
        "  yield_stress = datastress.iloc[yield_index]\n"
      ],
      "metadata": {
        "id": "Wi4exTeuQxDF"
      },
      "execution_count": 36,
      "outputs": []
    }
  ]
}